{
 "cells": [
  {
   "cell_type": "code",
   "execution_count": 1,
   "metadata": {},
   "outputs": [],
   "source": [
    "def play_pick_stone(play1, play2, total_stone, max_pick):\n",
    "    print(\"\\nplayer: \",play1,\" vs \",play2)\n",
    "    print(\"There are\",total_stone,\"stones, max pick\",max_pick,\"at once\\n\")\n",
    "    current_player = 1\n",
    "    while (total_stone > 0):\n",
    "        legal_num = False\n",
    "\n",
    "        # Switch players\n",
    "        if current_player == 1:    \n",
    "            player_text = \"Player \"+str(current_player)+\":\"+play1+ \\\n",
    "                            \", choose a number between 1~\"+ \\\n",
    "                            str(max_pick)+\": \"\n",
    "        else:\n",
    "            player_text = \"Player \"+str(current_player)+\":\"+play2+ \\\n",
    "                            \", choose a number between 1~\"+ \\\n",
    "                            str(max_pick)+\": \"  \n",
    "\n",
    "        while legal_num == False:\n",
    "            num = int(input(player_text))\n",
    "            if 1 <= num and num <= max_pick:\n",
    "                legal_num = True\n",
    "            else:\n",
    "                print(\"Not legal. Try again.\")\n",
    "        # Update pick\n",
    "        total_stone = total_stone - num\n",
    "\n",
    "        if (total_stone < num):\n",
    "            max_pick = total_stone\n",
    "\n",
    "        if total_stone == 0:\n",
    "            if current_player == 1:\n",
    "                tmp=play1\n",
    "            else:\n",
    "                tmp=play2\n",
    "            print(\"Player\",current_player,\":\",tmp,\"lose!\")\n",
    "            return\n",
    "        elif total_stone<0:\n",
    "            print(\"wrong pick, choose between 1 to\",(total_stone+num))\n",
    "            total_stone = total_stone+num\n",
    "        else:\n",
    "            print(\"There are now\",total_stone,\\\n",
    "            \"stones remaining.\")\n",
    "        # Switch players\n",
    "        if current_player == 1:    \n",
    "            current_player=2\n",
    "        else:\n",
    "            current_player=1"
   ]
  },
  {
   "cell_type": "code",
   "execution_count": 2,
   "metadata": {},
   "outputs": [
    {
     "name": "stdout",
     "output_type": "stream",
     "text": [
      "pick game: last pick player is the loser\n",
      "name of player1:asd\n",
      "name of player2:asdasf\n",
      "how many total stone:10\n",
      "how many stone pick at once:3\n"
     ]
    }
   ],
   "source": [
    "print(\"pick game: last pick player is the loser\")\n",
    "play1 = input(\"name of player1:\")\n",
    "play2 = input(\"name of player2:\")\n",
    "total_stone = int(input(\"how many total stone:\"))\n",
    "max_pick = int(input(\"how many stone pick at once:\"))"
   ]
  },
  {
   "cell_type": "code",
   "execution_count": 3,
   "metadata": {},
   "outputs": [
    {
     "name": "stdout",
     "output_type": "stream",
     "text": [
      "\n",
      "player:  asd  vs  asdasf\n",
      "There are 10 stones, max pick 3 at once\n",
      "\n",
      "Player 1:asd, choose a number between 1~3: 3\n",
      "There are now 7 stones remaining.\n",
      "Player 2:asdasf, choose a number between 1~3: 3\n",
      "There are now 4 stones remaining.\n",
      "Player 1:asd, choose a number between 1~3: 3\n",
      "There are now 1 stones remaining.\n",
      "Player 2:asdasf, choose a number between 1~1: 3\n",
      "Not legal. Try again.\n",
      "Player 2:asdasf, choose a number between 1~1: 3\n",
      "Not legal. Try again.\n",
      "Player 2:asdasf, choose a number between 1~1: 1\n",
      "Player 2 : asdasf lose!\n"
     ]
    }
   ],
   "source": [
    "play_pick_stone(play1,play2,total_stone, max_pick)"
   ]
  },
  {
   "cell_type": "code",
   "execution_count": null,
   "metadata": {},
   "outputs": [],
   "source": []
  }
 ],
 "metadata": {
  "kernelspec": {
   "display_name": "Python 3",
   "language": "python",
   "name": "python3"
  },
  "language_info": {
   "codemirror_mode": {
    "name": "ipython",
    "version": 3
   },
   "file_extension": ".py",
   "mimetype": "text/x-python",
   "name": "python",
   "nbconvert_exporter": "python",
   "pygments_lexer": "ipython3",
   "version": "3.6.4"
  }
 },
 "nbformat": 4,
 "nbformat_minor": 2
}
